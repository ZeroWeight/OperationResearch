{
 "cells": [
  {
   "cell_type": "markdown",
   "metadata": {},
   "source": [
    "### 死亡率连续化\n",
    "年平均死亡率为$0.8 \\Rightarrow$\n",
    "\n",
    "设$x = x_0\\exp(-\\lambda t)$，$t$的单位是年$\\lambda = \\ln 5,\\frac {\\mathrm d x}{\\mathrm d t} = -\\lambda x$\n",
    "\n",
    "### 捕捞强度\n",
    "四龄鱼捕捞强度系数 $k\\Rightarrow$三龄鱼$0.42k$"
   ]
  },
  {
   "cell_type": "markdown",
   "metadata": {},
   "source": [
    "## 前八个月\n",
    "设四种鱼组成的向量为$\\vec x$,得到$$-\\frac{\\mathrm d \\vec x}{\\mathrm d t} = k \\mathbf C \\vec x + \\lambda \\vec x$$\n",
    "\n",
    "$$ \\mathbf C = \\begin{pmatrix}0&0&0&0\\\\0&0&0&0\\\\0&0&0.42&0\\\\0&0&0&1\\end{pmatrix}$$"
   ]
  },
  {
   "cell_type": "markdown",
   "metadata": {},
   "source": [
    "### 后四个月\n",
    "设卵为$y$，对一条鱼而言，$$\\frac {\\mathrm d y}{\\mathrm d t} = \\mu$$\n",
    "\n",
    "$$\\frac {\\mathrm d y}{\\mathrm d t} = \\mu \\begin{pmatrix} 0 & 0 & 1.109\\times10^5/2&1.109\\times10^5\\end{pmatrix} \\vec x$$\n",
    "\n",
    "$$-\\frac{\\mathrm d \\vec x}{\\mathrm d t} =\\lambda \\vec x$$\n",
    "\n",
    "\n",
    "取所有的单位时间为年，则$\\mu = 3$"
   ]
  },
  {
   "cell_type": "markdown",
   "metadata": {},
   "source": [
    "### 过年\n",
    "$y = 0$\n",
    "$$\\vec x = \\mathbf T \\vec x +\\begin{pmatrix} f(y)&0&0&0\\end{pmatrix}^T$$ \n",
    "$$f(y) = \\frac{1.22\\times 10 ^{11}y}{1.22\\times 10 ^{11} + y}$$"
   ]
  },
  {
   "cell_type": "markdown",
   "metadata": {},
   "source": [
    "## 求解：\n",
    "\n",
    "### $t \\in [0,2/3]$\n",
    "\n",
    "$$\\frac {\\mathrm dx}{\\mathrm dt} = \\mathbf A_1$$\n",
    "\n",
    "$$\\mathbf A_1 = \\begin{pmatrix}\n",
    "-\\ln5 & 0 & 0 & 0 \\\\\n",
    "0 & -\\ln5 & 0 & 0 \\\\\n",
    "0 & 0 & -0.42k-\\ln5 & 0 \\\\\n",
    "0 & 0 & 0 & -k-\\ln5 \\\\\n",
    "\\end{pmatrix}$$\n",
    "\n",
    "$$\\vec x_1 =  \\exp(+2\\mathbf A_1 / 3)\\vec x_0$$ "
   ]
  },
  {
   "cell_type": "markdown",
   "metadata": {},
   "source": [
    "$$\\frac {\\mathrm dx}{\\mathrm dt} = \\mathbf A_2$$\n",
    "\n",
    "$$\\mathbf A_2 = \\begin{pmatrix}\n",
    "-\\ln5 & 0 & 0 & 0 \\\\\n",
    "0 & -\\ln5 & 0 & 0 \\\\\n",
    "0 & 0 & -\\ln5 & 0 \\\\\n",
    "0 & 0 & 0 & -\\ln5 \\\\\n",
    "\\end{pmatrix}$$\n",
    "\n",
    "$$\\vec x_2 =  \\exp(-\\mathbf A_2 / 3)\\vec x_1$$\n",
    "\n",
    "$$\\vec x(t') =  \\exp(-\\mathbf A_2 t')\\vec x_1,t' = t-2/3$$\n",
    "\n",
    "$$y = \\int_0^{1/3}3 \\begin{pmatrix} 0 & 0 & 1.109\\times10^5/2&1.109\\times10^5\\end{pmatrix} \\vec x(t') \\mathrm dt'$$\n",
    "\n",
    "$$y = \\int_0^{1/3}3 \\begin{pmatrix} 0 & 0 & 1.109\\times10^5/2&1.109\\times10^5\\end{pmatrix} \\vec x_1 \\exp(-\\mathbf A_2 t') \\mathrm dt'$$\n",
    "\n",
    "$$y = (3 \\begin{pmatrix} 0 & 0 & 1.109\\times10^5/2&1.109\\times10^5\\end{pmatrix} \\vec x_1 )\\int_0^{1/3} \\exp(-\\mathbf A_2 t') \\mathrm dt'$$\n",
    "\n",
    "$$y = (3 \\begin{pmatrix} 0 & 0 & 1.109\\times10^5/2&1.109\\times10^5\\end{pmatrix} A_2^{-1}(\\mathbf I - \\exp(-\\mathbf A_2/3))) \\vec x_1 )  $$\n",
    "\n",
    "$$\\mathbf B = (3 \\begin{pmatrix} 0 & 0 & 1.109\\times10^5/2&1.109\\times10^5\\end{pmatrix} A_2^{-1}(\\mathbf I - \\exp(-\\mathbf A_2/3)))$$\n",
    "\n",
    "$$y = \\mathbf B \\vec x_1$$"
   ]
  },
  {
   "cell_type": "code",
   "execution_count": 1,
   "metadata": {},
   "outputs": [
    {
     "name": "stdout",
     "output_type": "stream",
     "text": [
      "\n",
      "A_2 =\n",
      "\n",
      "   -1.6094         0         0         0\n",
      "         0   -1.6094         0         0\n",
      "         0         0   -1.6094         0\n",
      "         0         0         0   -1.6094\n",
      "\n",
      "\n",
      "arr =\n",
      "\n",
      "           0           0       55450      110900\n",
      "\n",
      "\n",
      "B =\n",
      "\n",
      "   1.0e+05 *\n",
      "\n",
      "         0         0    0.7338    1.4676\n",
      "\n",
      "\n",
      "ans =\n",
      "\n",
      "   1.0e+03 *\n",
      "\n",
      "         0         0    2.9353    5.8706\n",
      "\n"
     ]
    }
   ],
   "source": [
    "%solve for B\n",
    "\n",
    "A_2 = -log(5)*eye(4)\n",
    "arr = [0 0 1.109e5/2 1.109e5]\n",
    "B  = 3 * arr * A_2^(-1) * (eye(4) - expm(-A_2/3))'\n",
    "B * 0.04"
   ]
  },
  {
   "cell_type": "markdown",
   "metadata": {},
   "source": [
    "### 解方程\n",
    "\n",
    "$$\\vec x_0 = \\mathbf T \\exp(-\\mathbf A_2 / 3 -2\\mathbf A_1 / 3)\\vec x_0 +\\begin{pmatrix} f(\\mathbf B \\exp(-2\\mathbf A_1 / 3)\\vec x_0)&0&0&0\\end{pmatrix}^T$$ \n",
    "\n",
    "$$\\mathbf A = -\\mathbf A_2 / 3 -2\\mathbf A_1 / 3 = \\begin{pmatrix}\n",
    "-\\ln5 & 0 & 0 & 0 \\\\\n",
    "0 & -\\ln5 & 0 & 0 \\\\\n",
    "0 & 0 & -\\ln5-0.84k/3 & 0 \\\\\n",
    "0 & 0 & 0 & -\\ln5-2k/3 \\\\\n",
    "\\end{pmatrix}$$\n",
    "\n",
    "$$\\exp(\\mathbf A) = \\begin{pmatrix}\n",
    "0.2 & 0 & 0 & 0 \\\\\n",
    "0 & 0.2 & 0 & 0 \\\\\n",
    "0 & 0 & 0.2\\exp(-0.84k/3) & 0 \\\\\n",
    "0 & 0 & 0 & 0.2\\exp(-2k/3) \\\\\n",
    "\\end{pmatrix}$$\n",
    "\n",
    "$$ \\mathbf T = \\begin{pmatrix} \n",
    "0 & 0 & 0 & 0 \\\\ 1& 0 & 0 & 0 \\\\ 0 & 1 & 0 & 0 \\\\0 & 0 & 1 & 1 \n",
    "\\end{pmatrix}$$"
   ]
  },
  {
   "cell_type": "markdown",
   "metadata": {},
   "source": [
    "$$\\mathbf T \\exp\\mathbf A = \\begin{pmatrix}\n",
    "0 & 0 & 0 & 0\\\\\n",
    "0.2 & 0 & 0 & 0 \\\\\n",
    "0 & 0.2 & 0 & 0 \\\\\n",
    "0 & 0 & 0.2\\exp(-0.84k/3) & 0.2\\exp(-2k/3)\n",
    "\\end{pmatrix}$$"
   ]
  },
  {
   "cell_type": "markdown",
   "metadata": {},
   "source": [
    "$$ x_4 =  0.2\\exp(-0.84k/3)x_3 + 0.2\\exp(-2k/3)x_4 $$\n",
    "\n",
    "$$ x_4 =  0.008\\exp(-0.84k/3)x_1 + 0.2\\exp(-2k/3)x_4 $$\n",
    "\n",
    "$$x_1 = f(\\mathbf B \\exp(-2\\mathbf A_1 / 3)\\vec x_0) = f(2.9353e3 x_1 + 1.4676e5 x_4)$$\n",
    "\n",
    "$$f(y) = \\frac{1.22\\times 10 ^{11}y}{1.22\\times 10 ^{11} + y}$$\n",
    "\n",
    "$$ (1-0.2\\exp(-2k/3))x_4 =  0.008\\exp(-0.84k/3)x_1 $$\n",
    "\n",
    "$$x_1 = f((2.9353e3+1.1741e3\\exp(-0.84k/3) / (1-0.2\\exp(-2k/3)))x_1)$$\n",
    "\n",
    "$$2.9353e3+1.1741e3\\exp(-0.84k/3) / (1-0.2\\exp(-2k/3) = g(k)$$\n",
    "\n",
    "$$x_1 = f(g(k)x_1)$$"
   ]
  },
  {
   "cell_type": "markdown",
   "metadata": {},
   "source": [
    "$$1/x_1 = 1/1.22e11 + 1/(g(k)x_1)$$\n",
    "$$(1-1/g(k))=x_1/1.22e11$$\n",
    "\n",
    "$$x_1 = 1.22\\times 10^{11}(1-1/g(k)))$$\n",
    "\n",
    "$$2.9353\\times 10^3+1.1741\\times 10^3exp(−0.84k/3)/(1−0.2exp(−2k/3)=g(k)$$"
   ]
  },
  {
   "cell_type": "markdown",
   "metadata": {},
   "source": [
    "### 收获\n",
    "\n",
    "$$\\frac {\\mathrm dz}{\\mathrm dt} = k\\mathbf C \\vec x$$\n",
    "\n",
    "$$z = k\\mathbf C\\int_0^{2/3}\\exp(-\\mathbf A_1t)\\mathrm dt\\vec x_0$$\n",
    "\n",
    "$$ z = k\\mathbf C  A_1^{-1} (1-\\exp(-2\\mathbf A_1/3))\\vec x_0$$\n",
    "\n",
    "$$ \\mathbf C = \\begin{pmatrix}0&0&0&0\\\\0&0&0&0\\\\0&0&0.42&0\\\\0&0&0&1\\end{pmatrix}$$\n",
    "\n",
    "$$\\mathbf A_1 = \\begin{pmatrix}\n",
    "-\\ln5 & 0 & 0 & 0 \\\\\n",
    "0 & -\\ln5 & 0 & 0 \\\\\n",
    "0 & 0 & -0.42k-\\ln5 & 0 \\\\\n",
    "0 & 0 & 0 & -k-\\ln5 \\\\\n",
    "\\end{pmatrix}$$"
   ]
  },
  {
   "cell_type": "markdown",
   "metadata": {},
   "source": [
    "$$x_1 = 1.22\\times 10^{11}(1-1/g(k)))$$\n",
    "\n",
    "$$2.9353\\times 10^3+1.1741\\times 10^3exp(−0.84k/3)/(1−0.2exp(−2k/3)=g(k)$$\\\n",
    "\n",
    "$$ x_3 = 0.04x_1,x_2 = 0.2x_1$$\n",
    "\n",
    "$$ x_4 =  0.008\\exp(-0.84k/3)/(1-0.2\\exp(-2k/3))x_1 $$"
   ]
  },
  {
   "cell_type": "code",
   "execution_count": 2,
   "metadata": {},
   "outputs": [
    {
     "name": "stdout",
     "output_type": "stream",
     "text": [
      "\n",
      "C =\n",
      "\n",
      "         0         0         0         0\n",
      "         0         0         0         0\n",
      "         0         0    0.4200         0\n",
      "         0         0         0    1.0000\n",
      "\n"
     ]
    }
   ],
   "source": [
    "build_from_x_1 = @(x_1,k) [x_1;0.2 * x_1;0.04 * x_1;0.008 * exp(-0.84 * k / 3) / (1 - 0.2 * exp(-2 * k / 3)) * x_1];\n",
    "g = @(k) 2.9353e3 * exp(-2 / 3 * (0.42 * k + log(5))) + 1.1741e3 * exp(-0.28 * k) / (1-0.2*exp(-2*k/3)) * exp(-2 / 3 * (k + log(5)));\n",
    "cal_x_1 = @(k) 1.22e11 * ( 1 - 1/g(k) );\n",
    "\n",
    "C = [0,0,0,0;0,0,0,0;0,0,0.42,0;0,0,0,1]\n",
    "cal_A_1 = @(k) log(5) * eye(4) + C * k;\n",
    "cal_z = @(k,x) k * C * (cal_A_1(k))^(-1) * (eye(4) - expm (-2/3 * (cal_A_1(k)))) * x;\n",
    "build_x = @(k) build_from_x_1(cal_x_1(k),k);\n",
    "weight = [5.07,11.55,17.86,22.99];\n",
    "main = @(k) weight * cal_z(k,build_x(k));"
   ]
  },
  {
   "cell_type": "code",
   "execution_count": 3,
   "metadata": {},
   "outputs": [
    {
     "name": "stdout",
     "output_type": "stream",
     "text": [
      "\n",
      "a =\n",
      "\n",
      "     0\n",
      "\n",
      "\n",
      "a =\n",
      "\n",
      "   1.0e+11 *\n",
      "\n",
      "    1.2192\n",
      "    0.2438\n",
      "    0.0488\n",
      "    0.0122\n",
      "\n"
     ]
    }
   ],
   "source": [
    "a = main(0)\n",
    "a = build_x(0)"
   ]
  },
  {
   "cell_type": "code",
   "execution_count": 12,
   "metadata": {},
   "outputs": [
    {
     "name": "stdout",
     "output_type": "stream",
     "text": [
      "\n",
      "ans =\n",
      "\n",
      "     1   250\n",
      "\n",
      "\n",
      "ans =\n",
      "\n",
      "     1   250\n",
      "\n",
      "\n",
      "aa =\n",
      "\n",
      "   6.4933e+10\n",
      "\n",
      "\n",
      "aaa =\n",
      "\n",
      "   141\n",
      "\n"
     ]
    }
   ],
   "source": [
    "a = zeros(1,250);\n",
    "b = zeros(1,250);\n",
    "for k = 1:1:250\n",
    "b(k) = main(k*0.1);\n",
    "end\n",
    "size(b)\n",
    "size(0.1:0.1:25)\n",
    "[aa,aaa]=max(b)"
   ]
  },
  {
   "cell_type": "code",
   "execution_count": 10,
   "metadata": {},
   "outputs": [
    {
     "data": {
      "image/png": "[encoded data removed]",
      "text/plain": [
       "<IPython.core.display.Image object>"
      ]
     },
     "metadata": {},
     "output_type": "display_data"
    }
   ],
   "source": [
    "plot(0.1:0.1:25,b)"
   ]
  },
  {
   "cell_type": "code",
   "execution_count": 2,
   "metadata": {},
   "outputs": [
    {
     "name": "stderr",
     "output_type": "stream",
     "text": [
      "\u001b[0;31mError: Function definitions are not permitted in this context.\n",
      "\n",
      "\u001b[0m"
     ]
    }
   ],
   "source": [
    "function [Y,Z] = nextyear(X, k)\n",
    "    T = [0,0,0,0;1,0,0,0;0,1,0,0;0,0,1,1];\n",
    "    C = [0,0,0,0;0,0,0,0;0,0,0.42,0;0,0,0,1];\n",
    "    A = -log(5) * eye(4) - 2 * k / 3 * C;\n",
    "    A1 = -log(5) * eye(4) - k * C;\n",
    "    A2 = log(5)*eye(4);\n",
    "    arr = [0 0 1.109e5/2 1.109e5];\n",
    "    B  = 3 * arr * A2^(-1) * (eye(4) - expm(-A2/3));\n",
    "    f = @(x) 1.22e11 * x / (1.22e11 + x);\n",
    "    Y = T * expm(A) * X + [f(B * expm(2 / 3 * A1) * X);0;0;0];\n",
    "    weight = [5.07,11.55,17.86,22.99];\n",
    "    Z = weight * k * C * (A1)^(-1) * (-eye(4) + expm (2/3 * A1)) * X;\n",
    "end"
   ]
  },
  {
   "cell_type": "code",
   "execution_count": 1,
   "metadata": {},
   "outputs": [
    {
     "name": "stdout",
     "output_type": "stream",
     "text": [
      "\n",
      "ans =\n",
      "\n",
      "    '/usr/local/MATLAB/R2017b'\n",
      "\n"
     ]
    }
   ],
   "source": [
    "matlabroot"
   ]
  },
  {
   "cell_type": "code",
   "execution_count": null,
   "metadata": {},
   "outputs": [],
   "source": []
  }
 ],
 "metadata": {
  "kernelspec": {
   "display_name": "Matlab",
   "language": "matlab",
   "name": "matlab"
  },
  "language_info": {
   "codemirror_mode": "octave",
   "file_extension": ".m",
   "help_links": [
    {
     "text": "MetaKernel Magics",
     "url": "https://github.com/calysto/metakernel/blob/master/metakernel/magics/README.md"
    }
   ],
   "mimetype": "text/x-octave",
   "name": "matlab",
   "version": "0.15.0"
  }
 },
 "nbformat": 4,
 "nbformat_minor": 2
}
