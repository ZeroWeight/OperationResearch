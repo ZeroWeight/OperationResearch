{
 "cells": [
  {
   "cell_type": "markdown",
   "metadata": {
    "deletable": true,
    "editable": true
   },
   "source": [
    "# Problem 1\n",
    "\n",
    "设某一年龄组鱼的条数为$x(t), t\\in[0,1]$，捕捞强度为$k$，累计捕捞量为$y(t), t\\in[0,1]$。\n",
    "\n",
    "$$\\begin{aligned}&\\frac{\\mathrm{d}}{\\mathrm{d}t} x(t) = (\\ln(0.2)-k)x(t)\\\\\\Rightarrow&x(t) = x(0)\\mathrm{e}^{(\\ln(0.2) - k)t}\\\\&y(t) =\\int_0^t kx(\\tau) \\mathrm{d}\\tau = \\frac{kx(0)}{k - \\ln(0.2)}(1 - \\mathrm{e}^{(\\ln(0.2) - k)t}) \\end{aligned}$$\n",
    "\n",
    "稳态条件：\n",
    "- $x_1(0) = \\frac{C_1n}{C_1+n},n=\\frac12C_2x_3(\\frac23)+C_2x_4(\\frac23), C_1=1.22\\times10^{11}, C_2=1.109\\times10^5$\n",
    "- $x_2(0) = x_1(1)$\n",
    "- $x_3(0) = x_2(1)$\n",
    "- $x_4(0) = x_3(1)+x_4(1)$ （假设四龄鱼下一年还是四龄鱼）\n",
    "\n",
    "变化规律：\n",
    "- $x_1(1) = 0.2x_1(0)$\n",
    "- $x_2(1) = 0.2x_2(0)$\n",
    "- $x_3(\\frac23) = x_3(0)\\mathrm{e}^{\\frac23(\\ln(0.2) - k_3)}$\n",
    "- $x_3(1) = x_3(\\frac23) \\mathrm{e}^{\\frac13\\ln(0.2)}$\n",
    "- $x_4(\\frac23) = x_4(0)\\mathrm{e}^{\\frac23(\\ln(0.2) - k_4)}$\n",
    "- $x_4(1) = x_4(\\frac23) \\mathrm{e}^{\\frac13\\ln(0.2)}$\n",
    "- $k_3 = 0.42k_4$\n",
    "\n",
    "欲求：\n",
    "$\\max(17.86 y_3(\\frac23) + 22.99 y_4(\\frac23))$"
   ]
  },
  {
   "cell_type": "code",
   "execution_count": 154,
   "metadata": {
    "collapsed": true,
    "deletable": true,
    "editable": true
   },
   "outputs": [],
   "source": [
    "from sympy import symbols, exp, log, solve\n",
    "\n",
    "x10, x11, x20, x21, x30, x323, x31, x40, x423, x41 = symbols('x10, x11, x20, x21, x30, x323, x31, x40, x423, x41')\n",
    "k3, k4 = symbols('k3, k4')\n",
    "\n",
    "k3 = 0.42 * k4\n",
    "\n",
    "x11 = 0.2 * x10\n",
    "x20 = x11\n",
    "x21 = 0.2 * x20\n",
    "x30 = x21\n",
    "x323 = x30 * exp(2/3 * (log(0.2) - k3))\n",
    "x31 = x323 * exp(1/3 * log(0.2))"
   ]
  },
  {
   "cell_type": "code",
   "execution_count": 155,
   "metadata": {
    "collapsed": false,
    "deletable": true,
    "editable": true
   },
   "outputs": [],
   "source": [
    "x423 = x40 * exp(2/3 * (log(0.2) - k4))\n",
    "x41 = x423 * exp(1/3 * log(0.2))\n",
    "\n",
    "E = x40 - x31 - x41\n",
    "x40 = solve(E, x40)[0]\n",
    "\n",
    "x423 = x40 * exp(2/3 * (log(0.2) - k4))\n",
    "x41 = x423 * exp(1/3 * log(0.2))"
   ]
  },
  {
   "cell_type": "code",
   "execution_count": 156,
   "metadata": {
    "collapsed": false,
    "deletable": true,
    "editable": true
   },
   "outputs": [],
   "source": [
    "C1 = 1.22e11\n",
    "C2 = 1.316e5    # revision by Zero Weight\n",
    "\n",
    "n = 1/2 * C2 * x323 + C2 * x423\n",
    "E = C1 + n - C1 * n / x10\n",
    "x10 = solve(E, x10)[0]"
   ]
  },
  {
   "cell_type": "code",
   "execution_count": 157,
   "metadata": {
    "collapsed": false,
    "deletable": true,
    "editable": true
   },
   "outputs": [],
   "source": [
    "x11 = 0.2 * x10\n",
    "x20 = x11\n",
    "x21 = 0.2 * x20\n",
    "x30 = x21\n",
    "x323 = x30 * exp(2/3 * (log(0.2) - k3))\n",
    "x31 = x323 * exp(1/3 * log(0.2))\n",
    "\n",
    "x40 = x40.subs({'x10': x10})\n",
    "x423 = x40 * exp(2/3 * (log(0.2) - k4))\n",
    "x41 = x423 * exp(1/3 * log(0.2))"
   ]
  },
  {
   "cell_type": "code",
   "execution_count": 158,
   "metadata": {
    "collapsed": false,
    "deletable": true,
    "editable": true
   },
   "outputs": [],
   "source": [
    "y3 = k3 * x30 / (k3 - log(0.2)) * (1 - exp(2/3 * (log(0.2) - k3)))\n",
    "y4 = k4 * x40 / (k4 - log(0.2)) * (1 - exp(2/3 * (log(0.2) - k4)))\n",
    "y = 17.86 * y3 + 22.99 * y4"
   ]
  },
  {
   "cell_type": "code",
   "execution_count": 159,
   "metadata": {
    "collapsed": false,
    "deletable": true,
    "editable": true
   },
   "outputs": [
    {
     "data": {
      "image/png": "[encoded data removed]",
      "text/plain": [
       "<matplotlib.figure.Figure at 0x11614f4a8>"
      ]
     },
     "metadata": {},
     "output_type": "display_data"
    },
    {
     "name": "stdout",
     "output_type": "stream",
     "text": [
      "k: 13.83883883883884\n",
      "y: 64539698154.108246\n"
     ]
    }
   ],
   "source": [
    "from sympy import lambdify\n",
    "import numpy as np\n",
    "from matplotlib import pyplot as plt\n",
    "\n",
    "f = lambdify(k4, y)\n",
    "k_space = np.linspace(0, 25, 1000)\n",
    "y_space = f(k_space)\n",
    "end = np.argmax(y_space < 0)\n",
    "plt.plot(k_space[:end], y_space[:end])\n",
    "plt.xlabel('$k$')\n",
    "plt.ylabel('$z (\\mathrm{g})$')\n",
    "plt.show()\n",
    "\n",
    "print('k: {}'.format(k_space[np.argmax(y_space)]))\n",
    "print('y: {}'.format(np.max(y_space)))"
   ]
  },
  {
   "cell_type": "markdown",
   "metadata": {
    "deletable": true,
    "editable": true
   },
   "source": [
    "# Problem 2\n",
    "\n",
    "对于 $t\\in\\mathbb{N}$：\n",
    "\n",
    "$$\\begin{aligned}x_1(t+1) &= G_k(x_3(t),x_4(t))\\\\\n",
    "x_2(t+1) &= 0.2x_1(t)\\\\\n",
    "x_3(t+1) &= 0.2x_2(t)\\\\\n",
    "x_4(t+1) &= F_k(x_3(t), x_4(t))\n",
    "\\end{aligned}$$\n",
    "\n",
    "$F_k(x_3,x_4), G_k(x_3,x_4)$的定义见代码。\n"
   ]
  },
  {
   "cell_type": "markdown",
   "metadata": {
    "deletable": true,
    "editable": true
   },
   "source": [
    "而第$t$年的收获量\n",
    "\n",
    "$$y=17.86 y_3(t+\\frac23) + 22.99 y_4(t+\\frac23)$$\n",
    "\n",
    "其中$y_3,y_4$参见之前的定义"
   ]
  },
  {
   "cell_type": "markdown",
   "metadata": {
    "deletable": true,
    "editable": true
   },
   "source": [
    "定义「生产能力不受太大破坏」为每个年龄段的剩余鱼数都不少于饱和值的0.8，其中饱和值为\n",
    "\n",
    "$$\\begin{bmatrix}1\\\\0.2\\\\0.2^2\\\\\\frac54\\times0.2^3 \\end{bmatrix}\\times 1.22\\times 10^{11}$$"
   ]
  },
  {
   "cell_type": "code",
   "execution_count": 153,
   "metadata": {
    "collapsed": false,
    "deletable": true,
    "editable": true
   },
   "outputs": [],
   "source": [
    "x10, x20, x30, x40 = symbols('x10, x20, x30, x40')\n",
    "x1, x2, x3, x4 = x10, x20, x30, x40\n",
    "\n",
    "k41, k42, k43, k44, k45 = symbols('k41, k42, k43, k44, k45')\n",
    "k4 = (k41, k42, k43, k44, k45)\n",
    "\n",
    "F = lambda x3, x4, k4: 0.2 * exp(-2/3 * 0.42 * k4) * x3 + 0.2 * exp(-2/3 * k4) * x4\n",
    "N = lambda x3, x4, k4: 0.5 * C2 * exp(2/3 * (log(0.2) - 0.42 * k4)) * x3 + C2 * exp(2/3 * (log(0.2) - k4)) * x4\n",
    "G = lambda x3, x4, k4: C1 * N(x3, x4, k4) / (C1 + N(x3, x4, k4))\n",
    "\n",
    "y = 0\n",
    "\n",
    "for t in range(5):\n",
    "    y3 = 0.42 * k4[t] * x3 / (0.42 * k4[t] - log(0.2)) * (1 - exp(2/3 * (log(0.2) - 0.42 * k4[t])))\n",
    "    y4 = k4[t] * x4 / (k4[t] - log(0.2)) * (1 - exp(2/3 * (log(0.2) - k4[t])))\n",
    "    y += (17.86 * y3 + 22.99 * y4)\n",
    "    x1, x2, x3, x4 = G(x3, x4, k4[t]), 0.2 * x1, 0.2 * x2, F(x3, x4, k4[t])"
   ]
  },
  {
   "cell_type": "code",
   "execution_count": 154,
   "metadata": {
    "collapsed": false,
    "deletable": true,
    "editable": true
   },
   "outputs": [],
   "source": [
    "values = {\n",
    "    'x10': 122e9,\n",
    "    'x20': 29.7e9,\n",
    "    'x30': 10.1e9,\n",
    "    'x40': 3.29e9\n",
    "}\n",
    "\n",
    "x1 = x1.subs(values)\n",
    "x2 = x2.subs(values)\n",
    "x3 = x3.subs(values)\n",
    "x4 = x4.subs(values)\n",
    "y = y.subs(values)"
   ]
  },
  {
   "cell_type": "code",
   "execution_count": 155,
   "metadata": {
    "collapsed": false,
    "deletable": true,
    "editable": true
   },
   "outputs": [],
   "source": [
    "def get_sigmoid(k, x0):\n",
    "    return lambda x: 1 / (1 + exp(-k * (x - x0)))\n",
    "\n",
    "k = 100\n",
    "x0 = 0.8\n",
    "sigmoid = get_sigmoid(k, x0)\n",
    "\n",
    "sat = 1.22e11 * np.array([1, 0.2, 0.2 ** 2, 5/4 * 0.2 ** 3])\n",
    "\n",
    "M = [1e3, 1e3, 1e3, 1e3]\n",
    "penalty = sum([M[i] * (1 - sigmoid(x / sat[i])) for i, x in enumerate((x1, x2, x3, x4))])\n",
    "goal = - (1e-9 * y) + penalty"
   ]
  },
  {
   "cell_type": "code",
   "execution_count": 156,
   "metadata": {
    "collapsed": false,
    "deletable": true,
    "editable": true
   },
   "outputs": [
    {
     "data": {
      "image/png": "[encoded data removed]",
      "text/plain": [
       "<matplotlib.figure.Figure at 0x115864710>"
      ]
     },
     "metadata": {},
     "output_type": "display_data"
    }
   ],
   "source": [
    "x_space = np.linspace(0.6, 1, 1000)\n",
    "y_space = 1 / (1 + np.exp(-k * (x_space - x0)))\n",
    "plt.plot(x_space, y_space)\n",
    "plt.show()"
   ]
  },
  {
   "cell_type": "code",
   "execution_count": 157,
   "metadata": {
    "collapsed": false,
    "deletable": true,
    "editable": true
   },
   "outputs": [],
   "source": [
    "grad = [goal.diff(p) for p in k4]"
   ]
  },
  {
   "cell_type": "code",
   "execution_count": 163,
   "metadata": {
    "collapsed": false,
    "deletable": true,
    "editable": true
   },
   "outputs": [
    {
     "name": "stdout",
     "output_type": "stream",
     "text": [
      "547.649361472425 {'k41': 9.12232815920300, 'k42': 13.3459823889608, 'k43': 10.7083258999892, 'k44': 10.8215259970527, 'k45': 15.0653337830383}\n",
      "532.585855963525 {'k41': 10.6150843386235, 'k42': 13.5308622310246, 'k43': 11.1863746024855, 'k44': 11.2872907282315, 'k45': 15.3552806813398}\n",
      "524.174591963361 {'k41': 11.7869200348690, 'k42': 13.6907506377741, 'k43': 11.6351923657977, 'k44': 11.7236744568908, 'k45': 15.6264593614171}\n",
      "518.426108676173 {'k41': 12.7536427247786, 'k42': 13.8292014793033, 'k43': 12.0588221378522, 'k44': 12.1344401820913, 'k45': 15.8716896523024}\n",
      "514.181163937706 {'k41': 13.5708253837697, 'k42': 13.9483273791347, 'k43': 12.4604821216113, 'k44': 12.5226153424981, 'k45': 16.0767423598608}\n",
      "510.937917572706 {'k41': 14.2702085259828, 'k42': 14.0494419739074, 'k43': 12.8427784835809, 'k44': 12.8906939170562, 'k45': 16.2212773317004}\n",
      "508.419845155731 {'k41': 14.8721881599833, 'k42': 14.1340918542856, 'k43': 13.2078504141565, 'k44': 13.2407696887116, 'k45': 16.2940527733463}\n",
      "506.427878276033 {'k41': 15.3911776256065, 'k42': 14.2052961187381, 'k43': 13.5574697097363, 'k44': 13.5746196597272, 'k45': 16.3146255237634}\n",
      "504.813205660225 {'k41': 15.8382175566861, 'k42': 14.2664882089207, 'k43': 13.8931067821771, 'k44': 13.8937476152070, 'k45': 16.3157160797711}\n",
      "503.481553622482 {'k41': 16.2223325006024, 'k42': 14.3197726568371, 'k43': 14.2159680242598, 'k44': 14.1993981463548, 'k45': 16.3129141393136}\n",
      "502.369973844562 {'k41': 16.5512504236292, 'k42': 14.3663279256405, 'k43': 14.5270005924680, 'k44': 14.4925304343131, 'k45': 16.3097763407887}\n",
      "501.431702300350 {'k41': 16.8317754695786, 'k42': 14.4070198083907, 'k43': 14.8268476559807, 'k44': 14.7737141110910, 'k45': 16.3068876251907}\n",
      "500.631652226183 {'k41': 17.0699652664218, 'k42': 14.4425788863167, 'k43': 15.1157153232457, 'k44': 15.0428838061665, 'k45': 16.3043136648856}\n",
      "499.944670464655 {'k41': 17.2711919271832, 'k42': 14.4736422586358, 'k43': 15.3930696619756, 'k44': 15.2988294206692, 'k45': 16.3020369862719}\n",
      "499.355235434982 {'k41': 17.4401223421287, 'k42': 14.5007690869948, 'k43': 15.6570079751235, 'k44': 15.5382213569855, 'k45': 16.3000287914561}\n",
      "498.858471942072 {'k41': 17.5806355639575, 'k42': 14.5244507968763, 'k43': 15.9030662986136, 'k44': 15.7540182851568, 'k45': 16.2982607991101}\n",
      "498.461462426893 {'k41': 17.6957488073074, 'k42': 14.5451196810266, 'k43': 16.1223606126931, 'k44': 15.9338988495631, 'k45': 16.2967072593773}\n",
      "498.179939809984 {'k41': 17.7878559272996, 'k42': 14.5631567258995, 'k43': 16.3002266254366, 'k44': 16.0621951315443, 'k45': 16.2953452765753}\n",
      "498.020793097955 {'k41': 17.8597819929573, 'k42': 14.5788987304636, 'k43': 16.4203468222497, 'k44': 16.1313645055211, 'k45': 16.2941544848272}\n",
      "497.956950044268 {'k41': 17.9159043311357, 'k42': 14.5926437509124, 'k43': 16.4800338321555, 'k44': 16.1554291177758, 'k45': 16.2931157896652}\n",
      "497.937704650423 {'k41': 17.9609436683358, 'k42': 14.6046529819984, 'k43': 16.5001649062236, 'k44': 16.1590107559981, 'k45': 16.2922099165532}\n",
      "497.930229312830 {'k41': 17.9980240853077, 'k42': 14.6151507719604, 'k43': 16.5051688569587, 'k44': 16.1568201203679, 'k45': 16.2914182990496}\n",
      "497.925613903361 {'k41': 18.0288802056076, 'k42': 14.6243287966484, 'k43': 16.5062575443176, 'k44': 16.1536536744666, 'k45': 16.2907252108642}\n",
      "497.922402907066 {'k41': 18.0546364842126, 'k42': 14.6323528391001, 'k43': 16.5064849339306, 'k44': 16.1506678294450, 'k45': 16.2901179204640}\n",
      "497.920143565390 {'k41': 18.0761499753910, 'k42': 14.6393675613498, 'k43': 16.5065310690119, 'k44': 16.1480768883891, 'k45': 16.2895857845443}\n",
      "497.918552568377 {'k41': 18.0941193974386, 'k42': 14.6454995296407, 'k43': 16.5065395463265, 'k44': 16.1458784491607, 'k45': 16.2891196093157}\n",
      "497.917431978559 {'k41': 18.1091260709627, 'k42': 14.6508595255595, 'k43': 16.5065403197368, 'k44': 16.1440263216337, 'k45': 16.2887113372133}\n",
      "497.916642465592 {'k41': 18.1216561620340, 'k42': 14.6555445047941, 'k43': 16.5065396094322, 'k44': 16.1424703851262, 'k45': 16.2883538765244}\n",
      "497.916085962113 {'k41': 18.1321166292469, 'k42': 14.6596393058781, 'k43': 16.5065386953715, 'k44': 16.1411652468267, 'k45': 16.2880409825079}\n",
      "497.915693470648 {'k41': 18.1408480576025, 'k42': 14.6632181499629, 'k43': 16.5065378312216, 'k44': 16.1400715975950, 'k45': 16.2877671594829}\n",
      "497.915416457482 {'k41': 18.1481353562538, 'k42': 14.6663459581458, 'k43': 16.5065370586674, 'k44': 16.1391558863271, 'k45': 16.2875275749287}\n",
      "497.915220785046 {'k41': 18.1542167524899, 'k42': 14.6690795080796, 'k43': 16.5065363766429, 'k44': 16.1383896513805, 'k45': 16.2873179828457}\n",
      "497.915082439006 {'k41': 18.1592913612918, 'k42': 14.6714684488767, 'k43': 16.5065357763667, 'k44': 16.1377488320163, 'k45': 16.2871346552437}\n",
      "497.914984521922 {'k41': 18.1635255506577, 'k42': 14.6735561911634, 'k43': 16.5065352484810, 'k44': 16.1372131371071, 'k45': 16.2869743210053}\n",
      "497.914915139412 {'k41': 18.1670582879252, 'k42': 14.6753806872478, 'k43': 16.5065347844089, 'k44': 16.1367654867652, 'k45': 16.2868341114709}\n",
      "497.914865914493 {'k41': 18.1700056251934, 'k42': 14.6769751146634, 'k43': 16.5065343765259, 'k44': 16.1363915261351, 'k45': 16.2867115121237}\n",
      "497.914830943676 {'k41': 18.1724644588376, 'k42': 14.6783684748249, 'k43': 16.5065340181007, 'k44': 16.1360792058706, 'k45': 16.2866043197835}\n",
      "497.914806063513 {'k41': 18.1745156780453, 'k42': 14.6795861171598, 'k43': 16.5065337031990, 'k44': 16.1358184224707, 'k45': 16.2865106047530}\n",
      "497.914788335226 {'k41': 18.1762267998840, 'k42': 14.6806501978607, 'k43': 16.5065334265910, 'k44': 16.1356007114538, 'k45': 16.2864286773982}\n",
      "497.914775682494 {'k41': 18.1776541734045, 'k42': 14.6815800813109, 'k43': 16.5065331836684, 'k44': 16.1354189866407, 'k45': 16.2863570586835}\n",
      "497.914766636797 {'k41': 18.1788448224040, 'k42': 14.6823926912713, 'k43': 16.5065329703712, 'k44': 16.1352673193278, 'k45': 16.2862944542261}\n",
      "497.914760158309 {'k41': 18.1798379854897, 'k42': 14.6831028180571, 'k43': 16.5065327831226, 'k44': 16.1351407517392, 'k45': 16.2862397314723}\n",
      "497.914755509824 {'k41': 18.1806664027535, 'k42': 14.6837233871772, 'k43': 16.5065326187726, 'k44': 16.1350351397768, 'k45': 16.2861918996394}\n",
      "497.914752167998 {'k41': 18.1813573904570, 'k42': 14.6842656942375, 'k43': 16.5065324745476, 'k44': 16.1349470207035, 'k45': 16.2861500920999}\n",
      "497.914749760767 {'k41': 18.1819337384562, 'k42': 14.6847396103211, 'k43': 16.5065323480057, 'k44': 16.1348735019718, 'k45': 16.2861135509231}\n",
      "497.914748023224 {'k41': 18.1824144594613, 'k42': 14.6851537615368, 'k43': 16.5065322369980, 'k44': 16.1348121679303, 'k45': 16.2860816133164}\n",
      "497.914746766450 {'k41': 18.1828154144991, 'k42': 14.6855156859728, 'k43': 16.5065321396336, 'k44': 16.1347610016157, 'k45': 16.2860536997393}\n",
      "497.914745855491\n"
     ]
    }
   ],
   "source": [
    "def random_init():\n",
    "    return 10 + 2 * np.random.randn()\n",
    "\n",
    "def gradient_descent(verbose=False):\n",
    "    # initial values\n",
    "    values = {\n",
    "        'k41': random_init(),\n",
    "        'k42': random_init(),\n",
    "        'k43': random_init(),\n",
    "        'k44': random_init(),\n",
    "        'k45': random_init(),\n",
    "    }\n",
    "\n",
    "    alpha = 3e-1\n",
    "    eps = 1e-6\n",
    "\n",
    "    goal_value = 1e20\n",
    "\n",
    "    # repeat until convergence\n",
    "    while True:\n",
    "        goal_value_new = goal.subs(values).evalf()\n",
    "        if goal_value - goal_value_new < eps:\n",
    "            print(goal_value_new)\n",
    "            break\n",
    "        grad_value = [g.subs(values).evalf() for g in grad]\n",
    "        for i, k in enumerate(('k41', 'k42', 'k43', 'k44', 'k45')):\n",
    "            values[k] -= alpha * grad_value[i]\n",
    "        goal_value = goal_value_new\n",
    "        if verbose:\n",
    "            print(goal_value, values)\n",
    "\n",
    "    return values\n",
    "    \n",
    "values = gradient_descent(verbose=True)"
   ]
  },
  {
   "cell_type": "code",
   "execution_count": 165,
   "metadata": {
    "collapsed": false,
    "deletable": true,
    "editable": true
   },
   "outputs": [
    {
     "name": "stdout",
     "output_type": "stream",
     "text": [
      "{'k41': 18.1828154144991, 'k42': 14.6855156859728, 'k43': 16.5065321396336, 'k44': 16.1347610016157, 'k45': 16.2860536997393}\n",
      "502916609887.472\n",
      "[0.881558692657161 0.882382800958683 0.881799986868496 0.00784973149026838]\n"
     ]
    }
   ],
   "source": [
    "print(values)\n",
    "y_value = y.subs(values)\n",
    "ratio = np.array([x.subs(values) for x in (x1, x2, x3, x4)]) / sat\n",
    "print(y_value)\n",
    "print(ratio)"
   ]
  },
  {
   "cell_type": "code",
   "execution_count": null,
   "metadata": {
    "collapsed": true,
    "deletable": true,
    "editable": true
   },
   "outputs": [],
   "source": []
  }
 ],
 "metadata": {
  "kernelspec": {
   "display_name": "Python 3",
   "language": "python",
   "name": "python3"
  },
  "language_info": {
   "codemirror_mode": {
    "name": "ipython",
    "version": 3
   },
   "file_extension": ".py",
   "mimetype": "text/x-python",
   "name": "python",
   "nbconvert_exporter": "python",
   "pygments_lexer": "ipython3",
   "version": "3.6.1"
  }
 },
 "nbformat": 4,
 "nbformat_minor": 2
}
